{
  "nbformat": 4,
  "nbformat_minor": 0,
  "metadata": {
    "colab": {
      "provenance": []
    },
    "kernelspec": {
      "name": "python3",
      "display_name": "Python 3"
    },
    "language_info": {
      "name": "python"
    }
  },
  "cells": [
    {
      "cell_type": "code",
      "execution_count": 16,
      "metadata": {
        "id": "_Vi7ACys71g1"
      },
      "outputs": [],
      "source": [
        "import networkx as nx\n",
        "import matplotlib.pyplot as plt"
      ]
    },
    {
      "cell_type": "code",
      "source": [
        "p = nx.Graph()\n",
        "p.add_edges_from([\n",
        "    (1, 2), (2, 3), (3, 4), (4, 1), (1, 3)\n",
        "])"
      ],
      "metadata": {
        "id": "JOI4-HBT9CK8"
      },
      "execution_count": 17,
      "outputs": []
    },
    {
      "cell_type": "code",
      "source": [
        "p.add_edges_from([\n",
        "    (5, 6), (6, 7), (7, 8), (8, 5), (5, 7)\n",
        "])"
      ],
      "metadata": {
        "id": "snAM4LuQ9F3q"
      },
      "execution_count": 18,
      "outputs": []
    },
    {
      "cell_type": "code",
      "source": [
        "connected_comp = list(nx.connected_components(p))\n",
        "component_size = [len(comp) for comp in connected_comp]"
      ],
      "metadata": {
        "id": "rK9u1Pnv9OEg"
      },
      "execution_count": 19,
      "outputs": []
    },
    {
      "cell_type": "code",
      "source": [
        "print(connected_comp)\n",
        "print(component_size)"
      ],
      "metadata": {
        "colab": {
          "base_uri": "https://localhost:8080/"
        },
        "id": "6g4Hu4Eb9nMa",
        "outputId": "4f1dbeb3-9d08-46e9-9a7d-e0cadebbd0a8"
      },
      "execution_count": 20,
      "outputs": [
        {
          "output_type": "stream",
          "name": "stdout",
          "text": [
            "[{1, 2, 3, 4}, {8, 5, 6, 7}]\n",
            "[4, 4]\n"
          ]
        }
      ]
    },
    {
      "cell_type": "code",
      "source": [
        "color_map = {}\n",
        "colors = ['blue', 'green']\n",
        "for pos, component in enumerate(connected_comp):\n",
        "    for node in component:\n",
        "        color_map[node] = colors[pos]"
      ],
      "metadata": {
        "id": "75HIV-0e9tmj"
      },
      "execution_count": 21,
      "outputs": []
    },
    {
      "cell_type": "code",
      "source": [
        "node_col = [color_map[node] for node in p.nodes()]"
      ],
      "metadata": {
        "id": "EklmiZCH-b_F"
      },
      "execution_count": 22,
      "outputs": []
    },
    {
      "cell_type": "code",
      "source": [
        "pos = nx.spring_layout(G)"
      ],
      "metadata": {
        "id": "GqYXdcFh-08Z"
      },
      "execution_count": 23,
      "outputs": []
    },
    {
      "cell_type": "code",
      "source": [
        "nx.draw(p,pos, with_labels=True, node_color=node_col, edge_color=\"black\")"
      ],
      "metadata": {
        "colab": {
          "base_uri": "https://localhost:8080/",
          "height": 516
        },
        "id": "WaqQz0Lr-hbt",
        "outputId": "c3ff5fa1-3517-41eb-af15-f500ab419eb4"
      },
      "execution_count": 24,
      "outputs": [
        {
          "output_type": "display_data",
          "data": {
            "text/plain": [
              "<Figure size 640x480 with 1 Axes>"
            ],
            "image/png": "[encoded data removed]"
          },
          "metadata": {}
        }
      ]
    },
    {
      "cell_type": "code",
      "source": [],
      "metadata": {
        "id": "3XmCtNcq-ysJ"
      },
      "execution_count": 24,
      "outputs": []
    }
  ]
}